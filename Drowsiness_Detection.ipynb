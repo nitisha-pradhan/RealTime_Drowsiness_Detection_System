{
  "nbformat": 4,
  "nbformat_minor": 0,
  "metadata": {
    "colab": {
      "name": "Drowsiness_Detection.ipynb",
      "provenance": [],
      "collapsed_sections": [],
      "authorship_tag": "ABX9TyPdsCwb3P7asrj/Mze/1edh",
      "include_colab_link": true
    },
    "kernelspec": {
      "name": "python3",
      "display_name": "Python 3"
    },
    "language_info": {
      "name": "python"
    },
    "accelerator": "GPU"
  },
  "cells": [
    {
      "cell_type": "markdown",
      "metadata": {
        "id": "view-in-github",
        "colab_type": "text"
      },
      "source": [
        "<a href=\"https://colab.research.google.com/github/nitisha-pradhan/RealTime_Drowsiness_Detection_System/blob/main/Drowsiness_Detection.ipynb\" target=\"_parent\"><img src=\"https://colab.research.google.com/assets/colab-badge.svg\" alt=\"Open In Colab\"/></a>"
      ]
    },
    {
      "cell_type": "markdown",
      "metadata": {
        "id": "-qwAiopb4Ns4"
      },
      "source": [
        "#Importing data from Kaggle#"
      ]
    },
    {
      "cell_type": "code",
      "metadata": {
        "id": "FHFFsJN5MuKs"
      },
      "source": [
        "from google.colab import files\n",
        "files.upload()"
      ],
      "execution_count": null,
      "outputs": []
    },
    {
      "cell_type": "code",
      "metadata": {
        "id": "9SJv5417M500"
      },
      "source": [
        "!pip install -q kaggle"
      ],
      "execution_count": null,
      "outputs": []
    },
    {
      "cell_type": "code",
      "metadata": {
        "id": "91ouLMTTM7kz"
      },
      "source": [
        "!mkdir -p ~/.kaggle\n",
        "!cp kaggle.json ~/.kaggle/\n",
        " \n",
        "!chmod 600 ~/.kaggle/kaggle.json"
      ],
      "execution_count": null,
      "outputs": []
    },
    {
      "cell_type": "code",
      "metadata": {
        "colab": {
          "base_uri": "https://localhost:8080/"
        },
        "id": "tJt3VGDsM9J0",
        "outputId": "6a5d684a-1083-4e91-b4e3-bf028094ee49"
      },
      "source": [
        "!kaggle datasets download -d akshitmadan/eyes-open-or-closed"
      ],
      "execution_count": null,
      "outputs": [
        {
          "output_type": "stream",
          "name": "stdout",
          "text": [
            "Downloading eyes-open-or-closed.zip to /content\n",
            " 40% 9.00M/22.6M [00:01<00:01, 8.03MB/s]\n",
            "100% 22.6M/22.6M [00:01<00:00, 15.2MB/s]\n"
          ]
        }
      ]
    },
    {
      "cell_type": "code",
      "metadata": {
        "id": "qxKhzRbdgGKV"
      },
      "source": [
        "!unzip \\*.zip  && rm *.zip"
      ],
      "execution_count": null,
      "outputs": []
    },
    {
      "cell_type": "markdown",
      "metadata": {
        "id": "10mAoPuO4Uq3"
      },
      "source": [
        "#Data Generator and Augmentation#"
      ]
    },
    {
      "cell_type": "code",
      "metadata": {
        "id": "wR3xiagPgKIu"
      },
      "source": [
        "import pandas as pd\n",
        "import numpy as np\n",
        "import tensorflow as tf\n",
        "import tensorflow.keras as keras\n",
        "from tensorflow.keras.preprocessing.image import ImageDataGenerator\n",
        "import matplotlib.pyplot as plt"
      ],
      "execution_count": null,
      "outputs": []
    },
    {
      "cell_type": "code",
      "metadata": {
        "colab": {
          "base_uri": "https://localhost:8080/"
        },
        "id": "1r4XyRg6kqWt",
        "outputId": "388c6d09-fc47-4fde-9898-30e105de851d"
      },
      "source": [
        "train_datagen = ImageDataGenerator(\n",
        "        rescale=1./255,\n",
        "        horizontal_flip=True,\n",
        "        shear_range=0.3,\n",
        "        zoom_range=0.3\n",
        "        )\n",
        "\n",
        "test_datagen = ImageDataGenerator(rescale=1./255)\n",
        "\n",
        "train_generator = train_datagen.flow_from_directory(\n",
        "        '/content/dataset/train',\n",
        "        target_size=(48, 48),\n",
        "        batch_size=32,\n",
        "        class_mode='categorical',\n",
        "        color_mode = 'grayscale'\n",
        "        )\n",
        "\n",
        "validation_generator = test_datagen.flow_from_directory(\n",
        "        '/content/dataset/test',\n",
        "        target_size=(48, 48),\n",
        "        batch_size=32,\n",
        "        class_mode='categorical',\n",
        "        shuffle = False,\n",
        "        color_mode = 'grayscale'\n",
        "        )"
      ],
      "execution_count": null,
      "outputs": [
        {
          "output_type": "stream",
          "name": "stdout",
          "text": [
            "Found 3400 images belonging to 2 classes.\n",
            "Found 600 images belonging to 2 classes.\n"
          ]
        }
      ]
    },
    {
      "cell_type": "markdown",
      "metadata": {
        "id": "duPZu_6J4gjp"
      },
      "source": [
        "#Building model#"
      ]
    },
    {
      "cell_type": "code",
      "metadata": {
        "id": "HLWTb7jEk1y8"
      },
      "source": [
        "from tensorflow.keras.models import Sequential\n",
        "from tensorflow.keras.layers import Dense\n",
        "from tensorflow.keras.layers import Flatten\n",
        "from tensorflow.keras.layers import Conv2D\n",
        "from tensorflow.keras.layers import MaxPooling2D\n",
        "from tensorflow.keras.layers import Dropout\n",
        "import warnings\n",
        "warnings.filterwarnings('ignore')"
      ],
      "execution_count": null,
      "outputs": []
    },
    {
      "cell_type": "code",
      "metadata": {
        "id": "2ODOHProk4WQ"
      },
      "source": [
        "model = Sequential() \n",
        "\n",
        "model.add(Conv2D(128, (3, 3), padding=\"same\", activation=\"relu\", input_shape=(48, 48, 1)))\n",
        "model.add(MaxPooling2D(pool_size=(2, 2), padding=\"same\"))\n",
        "model.add(Dropout(0.3))\n",
        "\n",
        "model.add(Conv2D(64, (3, 3), padding=\"same\", activation=\"relu\"))\n",
        "model.add(MaxPooling2D(pool_size=(2, 2), padding=\"same\"))\n",
        "\n",
        "model.add(Dropout(0.3))\n",
        "\n",
        "model.add(Flatten())\n",
        "\n",
        "model.add(Dense(units=130, activation=\"relu\"))\n",
        "\n",
        "model.add(Dense(units=2, activation=\"softmax\"))"
      ],
      "execution_count": null,
      "outputs": []
    },
    {
      "cell_type": "code",
      "metadata": {
        "colab": {
          "base_uri": "https://localhost:8080/"
        },
        "id": "9glgmH4DlQ2I",
        "outputId": "f4283edc-13e5-49bc-9fc9-e9ab63f37449"
      },
      "source": [
        "model.summary()"
      ],
      "execution_count": null,
      "outputs": [
        {
          "output_type": "stream",
          "name": "stdout",
          "text": [
            "Model: \"sequential_1\"\n",
            "_________________________________________________________________\n",
            "Layer (type)                 Output Shape              Param #   \n",
            "=================================================================\n",
            "conv2d_2 (Conv2D)            (None, 48, 48, 128)       1280      \n",
            "_________________________________________________________________\n",
            "max_pooling2d_2 (MaxPooling2 (None, 24, 24, 128)       0         \n",
            "_________________________________________________________________\n",
            "dropout_2 (Dropout)          (None, 24, 24, 128)       0         \n",
            "_________________________________________________________________\n",
            "conv2d_3 (Conv2D)            (None, 24, 24, 64)        73792     \n",
            "_________________________________________________________________\n",
            "max_pooling2d_3 (MaxPooling2 (None, 12, 12, 64)        0         \n",
            "_________________________________________________________________\n",
            "dropout_3 (Dropout)          (None, 12, 12, 64)        0         \n",
            "_________________________________________________________________\n",
            "flatten_1 (Flatten)          (None, 9216)              0         \n",
            "_________________________________________________________________\n",
            "dense_2 (Dense)              (None, 130)               1198210   \n",
            "_________________________________________________________________\n",
            "dense_3 (Dense)              (None, 2)                 262       \n",
            "=================================================================\n",
            "Total params: 1,273,544\n",
            "Trainable params: 1,273,544\n",
            "Non-trainable params: 0\n",
            "_________________________________________________________________\n"
          ]
        }
      ]
    },
    {
      "cell_type": "code",
      "metadata": {
        "id": "7CSqfWA-lTMI"
      },
      "source": [
        "model.compile(\n",
        "    optimizer=\"adam\",\n",
        "    loss=\"categorical_crossentropy\",\n",
        "    metrics=[\"accuracy\"]\n",
        ")"
      ],
      "execution_count": null,
      "outputs": []
    },
    {
      "cell_type": "markdown",
      "metadata": {
        "id": "kwcyUkui4mFl"
      },
      "source": [
        "#Training model#"
      ]
    },
    {
      "cell_type": "code",
      "metadata": {
        "colab": {
          "base_uri": "https://localhost:8080/"
        },
        "id": "Y6GIc9X3lX00",
        "outputId": "b194c4df-4659-4303-8ee5-35327ac1bd55"
      },
      "source": [
        "history = model.fit_generator(train_generator, validation_data=validation_generator, epochs=10)"
      ],
      "execution_count": null,
      "outputs": [
        {
          "output_type": "stream",
          "name": "stdout",
          "text": [
            "Epoch 1/10\n",
            "107/107 [==============================] - 5s 41ms/step - loss: 0.3558 - accuracy: 0.8447 - val_loss: 0.0656 - val_accuracy: 0.9817\n",
            "Epoch 2/10\n",
            "107/107 [==============================] - 4s 40ms/step - loss: 0.1048 - accuracy: 0.9665 - val_loss: 0.0149 - val_accuracy: 0.9967\n",
            "Epoch 3/10\n",
            "107/107 [==============================] - 4s 40ms/step - loss: 0.0754 - accuracy: 0.9741 - val_loss: 0.0105 - val_accuracy: 1.0000\n",
            "Epoch 4/10\n",
            "107/107 [==============================] - 4s 40ms/step - loss: 0.0495 - accuracy: 0.9832 - val_loss: 0.0018 - val_accuracy: 1.0000\n",
            "Epoch 5/10\n",
            "107/107 [==============================] - 4s 40ms/step - loss: 0.0476 - accuracy: 0.9847 - val_loss: 0.0169 - val_accuracy: 1.0000\n",
            "Epoch 6/10\n",
            "107/107 [==============================] - 4s 39ms/step - loss: 0.0461 - accuracy: 0.9853 - val_loss: 0.0016 - val_accuracy: 1.0000\n",
            "Epoch 7/10\n",
            "107/107 [==============================] - 4s 40ms/step - loss: 0.0360 - accuracy: 0.9874 - val_loss: 9.2847e-04 - val_accuracy: 1.0000\n",
            "Epoch 8/10\n",
            "107/107 [==============================] - 4s 40ms/step - loss: 0.0506 - accuracy: 0.9821 - val_loss: 3.2458e-04 - val_accuracy: 1.0000\n",
            "Epoch 9/10\n",
            "107/107 [==============================] - 4s 39ms/step - loss: 0.0364 - accuracy: 0.9882 - val_loss: 4.5553e-04 - val_accuracy: 1.0000\n",
            "Epoch 10/10\n",
            "107/107 [==============================] - 4s 40ms/step - loss: 0.0358 - accuracy: 0.9891 - val_loss: 2.8325e-04 - val_accuracy: 1.0000\n"
          ]
        }
      ]
    },
    {
      "cell_type": "code",
      "metadata": {
        "colab": {
          "base_uri": "https://localhost:8080/"
        },
        "id": "a66m4lzcv-GK",
        "outputId": "ec3d9f9b-2602-425a-f574-09971790a9df"
      },
      "source": [
        "train_generator.class_indices"
      ],
      "execution_count": null,
      "outputs": [
        {
          "output_type": "execute_result",
          "data": {
            "text/plain": [
              "{'Closed_Eyes': 0, 'Open_Eyes': 1}"
            ]
          },
          "metadata": {},
          "execution_count": 25
        }
      ]
    },
    {
      "cell_type": "markdown",
      "metadata": {
        "id": "76uKqMwE4oug"
      },
      "source": [
        "#Saving and downloading model as h5 file#"
      ]
    },
    {
      "cell_type": "code",
      "metadata": {
        "id": "bWOOuPWUlfse"
      },
      "source": [
        "model.save('drowsiness.h5')"
      ],
      "execution_count": null,
      "outputs": []
    },
    {
      "cell_type": "code",
      "metadata": {
        "id": "nEFOyG6gmoSl"
      },
      "source": [
        ""
      ],
      "execution_count": null,
      "outputs": []
    }
  ]
}